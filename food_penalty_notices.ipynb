{
 "cells": [
  {
   "cell_type": "code",
   "execution_count": 17,
   "metadata": {},
   "outputs": [],
   "source": [
    "import requests\n",
    "import pandas as pd"
   ]
  },
  {
   "cell_type": "code",
   "execution_count": 18,
   "metadata": {},
   "outputs": [
    {
     "data": {
      "text/html": [
       "<div>\n",
       "<style scoped>\n",
       "    .dataframe tbody tr th:only-of-type {\n",
       "        vertical-align: middle;\n",
       "    }\n",
       "\n",
       "    .dataframe tbody tr th {\n",
       "        vertical-align: top;\n",
       "    }\n",
       "\n",
       "    .dataframe thead th {\n",
       "        text-align: right;\n",
       "    }\n",
       "</style>\n",
       "<table border=\"1\" class=\"dataframe\">\n",
       "  <thead>\n",
       "    <tr style=\"text-align: right;\">\n",
       "      <th></th>\n",
       "      <th>Trade name</th>\n",
       "      <th>Suburb</th>\n",
       "      <th>Council</th>\n",
       "      <th>Date</th>\n",
       "      <th>Party served</th>\n",
       "      <th>Notes</th>\n",
       "    </tr>\n",
       "    <tr>\n",
       "      <th>penalty_num</th>\n",
       "      <th></th>\n",
       "      <th></th>\n",
       "      <th></th>\n",
       "      <th></th>\n",
       "      <th></th>\n",
       "      <th></th>\n",
       "    </tr>\n",
       "  </thead>\n",
       "  <tbody>\n",
       "    <tr>\n",
       "      <th>3161225073</th>\n",
       "      <td>(NO TRADING NAME)</td>\n",
       "      <td>MANLY</td>\n",
       "      <td>Northern Beaches</td>\n",
       "      <td>2018-03-06</td>\n",
       "      <td>MEAT ANGEL PTY LTD</td>\n",
       "      <td>NaN</td>\n",
       "    </tr>\n",
       "    <tr>\n",
       "      <th>3161225064</th>\n",
       "      <td>(NO TRADING NAME)</td>\n",
       "      <td>MANLY</td>\n",
       "      <td>Northern Beaches</td>\n",
       "      <td>2018-03-06</td>\n",
       "      <td>MEAT ANGEL PTY LTD</td>\n",
       "      <td>NaN</td>\n",
       "    </tr>\n",
       "    <tr>\n",
       "      <th>3144236747</th>\n",
       "      <td>3 ADDICTIONS</td>\n",
       "      <td>NEUTRAL BAY</td>\n",
       "      <td>North Sydney</td>\n",
       "      <td>2018-04-16</td>\n",
       "      <td>ENGINEER, BERJIZ</td>\n",
       "      <td>NaN</td>\n",
       "    </tr>\n",
       "    <tr>\n",
       "      <th>3144236756</th>\n",
       "      <td>3 ADDICTIONS</td>\n",
       "      <td>NEUTRAL BAY</td>\n",
       "      <td>North Sydney</td>\n",
       "      <td>2018-04-16</td>\n",
       "      <td>ENGINEER, BERJIZ</td>\n",
       "      <td>NaN</td>\n",
       "    </tr>\n",
       "    <tr>\n",
       "      <th>3144236920</th>\n",
       "      <td>3 ADDICTIONS</td>\n",
       "      <td>NEUTRAL BAY</td>\n",
       "      <td>North Sydney</td>\n",
       "      <td>2018-05-14</td>\n",
       "      <td>ENGINEER, BERJIZ</td>\n",
       "      <td>NaN</td>\n",
       "    </tr>\n",
       "  </tbody>\n",
       "</table>\n",
       "</div>"
      ],
      "text/plain": [
       "                    Trade name       Suburb           Council        Date  \\\n",
       "penalty_num                                                                 \n",
       "3161225073   (NO TRADING NAME)        MANLY  Northern Beaches  2018-03-06   \n",
       "3161225064   (NO TRADING NAME)        MANLY  Northern Beaches  2018-03-06   \n",
       "3144236747        3 ADDICTIONS  NEUTRAL BAY      North Sydney  2018-04-16   \n",
       "3144236756        3 ADDICTIONS  NEUTRAL BAY      North Sydney  2018-04-16   \n",
       "3144236920        3 ADDICTIONS  NEUTRAL BAY      North Sydney  2018-05-14   \n",
       "\n",
       "                   Party served Notes  \n",
       "penalty_num                            \n",
       "3161225073   MEAT ANGEL PTY LTD   NaN  \n",
       "3161225064   MEAT ANGEL PTY LTD   NaN  \n",
       "3144236747     ENGINEER, BERJIZ   NaN  \n",
       "3144236756     ENGINEER, BERJIZ   NaN  \n",
       "3144236920     ENGINEER, BERJIZ   NaN  "
      ]
     },
     "execution_count": 18,
     "metadata": {},
     "output_type": "execute_result"
    }
   ],
   "source": [
    "url = 'http://www.foodauthority.nsw.gov.au/penalty-notices/default.aspx?template=results'\n",
    "html = requests.get(url).content\n",
    "df_list = pd.read_html(html)\n",
    "df = df_list[-1] #get the last dataframe from website\n",
    "df.head()\n",
    "\n",
    "#get current column names\n",
    "headers = list(df)\n",
    "#print(\"old header names: \")\n",
    "#print(headers)\n",
    "\n",
    "#new header names\n",
    "headers = ['Trade name', 'Suburb', 'Council', 'penalty_num', 'Date', 'Party served', 'Notes']\n",
    "\n",
    "#rename headers\n",
    "df.columns = headers\n",
    "\n",
    "#change index\n",
    "df.set_index('penalty_num', inplace=True)\n",
    "df.head()"
   ]
  },
  {
   "cell_type": "markdown",
   "metadata": {},
   "source": [
    "# Penalty Notes \n",
    "All the juicy info is stored in the NOTES which has a slug = penalty_num. We want to know\n",
    "- the address, \n",
    "- the offence code, \n",
    "- the description (what happened?) and, \n",
    "- the fine amount"
   ]
  },
  {
   "cell_type": "code",
   "execution_count": 19,
   "metadata": {},
   "outputs": [],
   "source": [
    "#dataframe to hold offences\n",
    "notes=pd.DataFrame(columns=['address', 'offence_code', 'description', 'amount'])\n",
    "\n",
    "#empty lists will eventually be columns in dataframe\n",
    "address_col=[]\n",
    "offence_col=[]\n",
    "description_col=[]\n",
    "amount_col=[]\n",
    "\n",
    "for index, row in df.iterrows():\n",
    "    penalty_num = index\n",
    "    #print(penalty_num) #debugging\n",
    "    \n",
    "    url = 'http://www.foodauthority.nsw.gov.au/penalty-notices/default.aspx?template=detail&itemId='+str(penalty_num)\n",
    "    html = requests.get(url).content\n",
    "    df_list = pd.read_html(html)\n",
    "    penaltydf = df_list[-1] #get the last dataframe from website\n",
    "    penaltydf = penaltydf.T #transpose so that features are columns (not rows)\n",
    "    penaltydf.columns=penaltydf.iloc[0] #get the header names from the first row.\n",
    "\n",
    "    #update each series (each column-to-be)\n",
    "    address_col.append(penaltydf['Address(where offence occurred)'][1])\n",
    "    offence_col.append(penaltydf['Offence code'][1])\n",
    "    description_col.append(penaltydf['Nature & circumstances of alleged offence'][1])\n",
    "    amount_col.append(penaltydf['Amount of penalty'][1])\n",
    "    \n",
    "#add distane column to dataframe (by converting to a series)\n",
    "df['address'] = pd.Series(address_col, df.index) \n",
    "df['offence'] = pd.Series(offence_col, df.index)\n",
    "df['description'] = pd.Series(description_col, df.index)\n",
    "df['amount'] = pd.Series(amount_col, df.index) "
   ]
  },
  {
   "cell_type": "code",
   "execution_count": 21,
   "metadata": {},
   "outputs": [
    {
     "data": {
      "text/html": [
       "<div>\n",
       "<style scoped>\n",
       "    .dataframe tbody tr th:only-of-type {\n",
       "        vertical-align: middle;\n",
       "    }\n",
       "\n",
       "    .dataframe tbody tr th {\n",
       "        vertical-align: top;\n",
       "    }\n",
       "\n",
       "    .dataframe thead th {\n",
       "        text-align: right;\n",
       "    }\n",
       "</style>\n",
       "<table border=\"1\" class=\"dataframe\">\n",
       "  <thead>\n",
       "    <tr style=\"text-align: right;\">\n",
       "      <th></th>\n",
       "      <th>Trade name</th>\n",
       "      <th>Suburb</th>\n",
       "      <th>Council</th>\n",
       "      <th>Date</th>\n",
       "      <th>Party served</th>\n",
       "      <th>Notes</th>\n",
       "      <th>address</th>\n",
       "      <th>offence</th>\n",
       "      <th>description</th>\n",
       "      <th>amount</th>\n",
       "    </tr>\n",
       "    <tr>\n",
       "      <th>penalty_num</th>\n",
       "      <th></th>\n",
       "      <th></th>\n",
       "      <th></th>\n",
       "      <th></th>\n",
       "      <th></th>\n",
       "      <th></th>\n",
       "      <th></th>\n",
       "      <th></th>\n",
       "      <th></th>\n",
       "      <th></th>\n",
       "    </tr>\n",
       "  </thead>\n",
       "  <tbody>\n",
       "    <tr>\n",
       "      <th>3161225073</th>\n",
       "      <td>(NO TRADING NAME)</td>\n",
       "      <td>MANLY</td>\n",
       "      <td>Northern Beaches</td>\n",
       "      <td>2018-03-06</td>\n",
       "      <td>MEAT ANGEL PTY LTD</td>\n",
       "      <td>NaN</td>\n",
       "      <td>249 PITTWATER ROAD MANLY 2095</td>\n",
       "      <td>11369 - Handle sell food so as to contravene t...</td>\n",
       "      <td>Fail to maintain all fixtures, fittings and eq...</td>\n",
       "      <td>$1320</td>\n",
       "    </tr>\n",
       "    <tr>\n",
       "      <th>3161225064</th>\n",
       "      <td>(NO TRADING NAME)</td>\n",
       "      <td>MANLY</td>\n",
       "      <td>Northern Beaches</td>\n",
       "      <td>2018-03-06</td>\n",
       "      <td>MEAT ANGEL PTY LTD</td>\n",
       "      <td>NaN</td>\n",
       "      <td>249 PITTWATER ROAD MANLY 2095</td>\n",
       "      <td>11369 - Handle sell food so as to contravene t...</td>\n",
       "      <td>Fail to maintain the food premises to the requ...</td>\n",
       "      <td>$1320</td>\n",
       "    </tr>\n",
       "    <tr>\n",
       "      <th>3144236747</th>\n",
       "      <td>3 ADDICTIONS</td>\n",
       "      <td>NEUTRAL BAY</td>\n",
       "      <td>North Sydney</td>\n",
       "      <td>2018-04-16</td>\n",
       "      <td>ENGINEER, BERJIZ</td>\n",
       "      <td>NaN</td>\n",
       "      <td>SHOP 4, 4 RANGERS ROAD NEUTRAL BAY 2089</td>\n",
       "      <td>11338 - Fail to comply with Food Standards Cod...</td>\n",
       "      <td>Fail to maintain at or near each hand washing ...</td>\n",
       "      <td>$440</td>\n",
       "    </tr>\n",
       "    <tr>\n",
       "      <th>3144236756</th>\n",
       "      <td>3 ADDICTIONS</td>\n",
       "      <td>NEUTRAL BAY</td>\n",
       "      <td>North Sydney</td>\n",
       "      <td>2018-04-16</td>\n",
       "      <td>ENGINEER, BERJIZ</td>\n",
       "      <td>NaN</td>\n",
       "      <td>SHOP 4, 4 RANGERS ROAD NEUTRAL BAY 2089</td>\n",
       "      <td>11338 - Fail to comply with Food Standards Cod...</td>\n",
       "      <td>Fail to ensure that persons undertaking or sup...</td>\n",
       "      <td>$440</td>\n",
       "    </tr>\n",
       "    <tr>\n",
       "      <th>3144236920</th>\n",
       "      <td>3 ADDICTIONS</td>\n",
       "      <td>NEUTRAL BAY</td>\n",
       "      <td>North Sydney</td>\n",
       "      <td>2018-05-14</td>\n",
       "      <td>ENGINEER, BERJIZ</td>\n",
       "      <td>NaN</td>\n",
       "      <td>SHOP 4 / 4 RANGERS ROAD NEUTRAL BAY 2089</td>\n",
       "      <td>11338 - Fail to comply with Food Standards Cod...</td>\n",
       "      <td>Fail to ensure that persons undertaking or sup...</td>\n",
       "      <td>$440</td>\n",
       "    </tr>\n",
       "  </tbody>\n",
       "</table>\n",
       "</div>"
      ],
      "text/plain": [
       "                    Trade name       Suburb           Council        Date  \\\n",
       "penalty_num                                                                 \n",
       "3161225073   (NO TRADING NAME)        MANLY  Northern Beaches  2018-03-06   \n",
       "3161225064   (NO TRADING NAME)        MANLY  Northern Beaches  2018-03-06   \n",
       "3144236747        3 ADDICTIONS  NEUTRAL BAY      North Sydney  2018-04-16   \n",
       "3144236756        3 ADDICTIONS  NEUTRAL BAY      North Sydney  2018-04-16   \n",
       "3144236920        3 ADDICTIONS  NEUTRAL BAY      North Sydney  2018-05-14   \n",
       "\n",
       "                   Party served Notes  \\\n",
       "penalty_num                             \n",
       "3161225073   MEAT ANGEL PTY LTD   NaN   \n",
       "3161225064   MEAT ANGEL PTY LTD   NaN   \n",
       "3144236747     ENGINEER, BERJIZ   NaN   \n",
       "3144236756     ENGINEER, BERJIZ   NaN   \n",
       "3144236920     ENGINEER, BERJIZ   NaN   \n",
       "\n",
       "                                              address  \\\n",
       "penalty_num                                             \n",
       "3161225073              249 PITTWATER ROAD MANLY 2095   \n",
       "3161225064              249 PITTWATER ROAD MANLY 2095   \n",
       "3144236747    SHOP 4, 4 RANGERS ROAD NEUTRAL BAY 2089   \n",
       "3144236756    SHOP 4, 4 RANGERS ROAD NEUTRAL BAY 2089   \n",
       "3144236920   SHOP 4 / 4 RANGERS ROAD NEUTRAL BAY 2089   \n",
       "\n",
       "                                                       offence  \\\n",
       "penalty_num                                                      \n",
       "3161225073   11369 - Handle sell food so as to contravene t...   \n",
       "3161225064   11369 - Handle sell food so as to contravene t...   \n",
       "3144236747   11338 - Fail to comply with Food Standards Cod...   \n",
       "3144236756   11338 - Fail to comply with Food Standards Cod...   \n",
       "3144236920   11338 - Fail to comply with Food Standards Cod...   \n",
       "\n",
       "                                                   description amount  \n",
       "penalty_num                                                            \n",
       "3161225073   Fail to maintain all fixtures, fittings and eq...  $1320  \n",
       "3161225064   Fail to maintain the food premises to the requ...  $1320  \n",
       "3144236747   Fail to maintain at or near each hand washing ...   $440  \n",
       "3144236756   Fail to ensure that persons undertaking or sup...   $440  \n",
       "3144236920   Fail to ensure that persons undertaking or sup...   $440  "
      ]
     },
     "execution_count": 21,
     "metadata": {},
     "output_type": "execute_result"
    }
   ],
   "source": [
    "df.head()"
   ]
  },
  {
   "cell_type": "markdown",
   "metadata": {},
   "source": [
    "## How many fines in total have been collected?\n",
    "- convert amount from string to numeric\n",
    "- need to remove $ sign"
   ]
  },
  {
   "cell_type": "code",
   "execution_count": 25,
   "metadata": {},
   "outputs": [
    {
     "data": {
      "text/plain": [
       "'$1,226,940'"
      ]
     },
     "execution_count": 25,
     "metadata": {},
     "output_type": "execute_result"
    }
   ],
   "source": [
    "#replace the dollar sign\n",
    "df['amount'] = df['amount'].replace({'\\$':''}, regex = True) #regex=True because \\escape is a regular expression\n",
    "\n",
    "#convert amount to numeric\n",
    "df['amount']=pd.to_numeric(df['amount'])\n",
    "\n",
    "amount_sum = df['amount'].sum()\n",
    "\n",
    "\"${:,}\".format(amount_sum)"
   ]
  },
  {
   "cell_type": "markdown",
   "metadata": {},
   "source": [
    "## What is the most common offence?\n",
    "Check the mode"
   ]
  },
  {
   "cell_type": "code",
   "execution_count": 84,
   "metadata": {},
   "outputs": [
    {
     "data": {
      "text/plain": [
       "0    11339 - Fail to comply with Food Standards Cod...\n",
       "dtype: object"
      ]
     },
     "execution_count": 84,
     "metadata": {},
     "output_type": "execute_result"
    }
   ],
   "source": [
    "df['offence'].mode()"
   ]
  },
  {
   "cell_type": "code",
   "execution_count": 79,
   "metadata": {},
   "outputs": [],
   "source": [
    "#df['offence'].groupby('offence').count()\n",
    "#df[df.Suburb=='BLACKTOWN']"
   ]
  },
  {
   "cell_type": "markdown",
   "metadata": {},
   "source": [
    "# Write to csv"
   ]
  },
  {
   "cell_type": "code",
   "execution_count": 81,
   "metadata": {},
   "outputs": [],
   "source": [
    "df.to_csv('food')"
   ]
  },
  {
   "cell_type": "code",
   "execution_count": null,
   "metadata": {},
   "outputs": [],
   "source": [
    "#import csv\n",
    "\n",
    "\n",
    "#find latest date\n",
    "\n",
    "\n",
    "#import from website and add those AFTER that date"
   ]
  }
 ],
 "metadata": {
  "kernelspec": {
   "display_name": "Python 3",
   "language": "python",
   "name": "python3"
  },
  "language_info": {
   "codemirror_mode": {
    "name": "ipython",
    "version": 3
   },
   "file_extension": ".py",
   "mimetype": "text/x-python",
   "name": "python",
   "nbconvert_exporter": "python",
   "pygments_lexer": "ipython3",
   "version": "3.6.8"
  }
 },
 "nbformat": 4,
 "nbformat_minor": 2
}
